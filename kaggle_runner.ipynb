{
 "cells": [
  {
   "cell_type": "code",
   "execution_count": null,
   "id": "ebdd87e0",
   "metadata": {},
   "outputs": [],
   "source": [
    "# === 1. Install dependencies ===\n",
    "!pip install torch torchvision numpy Pillow tqdm wandb pyyaml matplotlib\n"
   ]
  },
  {
   "cell_type": "code",
   "execution_count": null,
   "id": "37cde0c1",
   "metadata": {},
   "outputs": [],
   "source": [
    "# === 2. Imports ===\n",
    "import yaml\n",
    "from dataset import *\n",
    "from losses import *\n",
    "# Import the training functions if needed\n"
   ]
  },
  {
   "cell_type": "code",
   "execution_count": null,
   "id": "9556a7e8",
   "metadata": {},
   "outputs": [],
   "source": [
    "# === 3. Load configuration ===\n",
    "with open(\"config.yaml\", 'r') as file:\n",
    "    config = yaml.safe_load(file)\n",
    "\n",
    "print(\"Configuration loaded successfully!\")\n",
    "print(config)\n"
   ]
  },
  {
   "cell_type": "code",
   "execution_count": null,
   "id": "1aa6c7e9",
   "metadata": {},
   "outputs": [],
   "source": [
    "# === 4. Train GAN ===\n",
    "!python train_gan.py\n"
   ]
  },
  {
   "cell_type": "code",
   "execution_count": null,
   "id": "aed153a3",
   "metadata": {},
   "outputs": [],
   "source": [
    "# === 5. Train Trajectory Network ===\n",
    "!python train_trajectory.py\n"
   ]
  },
  {
   "cell_type": "code",
   "execution_count": null,
   "id": "9d444784",
   "metadata": {},
   "outputs": [],
   "source": [
    "# === 6. Visualize Results (optional) ===\n",
    "# Add visualization or evaluation logic here\n"
   ]
  }
 ],
 "metadata": {},
 "nbformat": 4,
 "nbformat_minor": 5
}
